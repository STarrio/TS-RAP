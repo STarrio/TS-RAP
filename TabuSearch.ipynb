{
 "cells": [
  {
   "cell_type": "markdown",
   "metadata": {
    "collapsed": true
   },
   "source": [
    "# Trabajo MC\n",
    "## Redundancy Allocation Problem with Tabu Search\n",
    "\n",
    "#### TO-DO LIST\n",
    "- Implementar búsqueda tabú x\n",
    " - <span style=\"color:gray\">(Tener en cuenta el tamaño máximo de la lista tabú {1}) </span>\n",
    "- Estudiar heurística explicada en el paper\n",
    "- Aplicar la heurística al algoritmo\n",
    "- Desarrollar funciones de generación de problemas\n",
    "- Desarrollar funciones de representación gráfica\n",
    "\n",
    "\n",
    "> {1} Según el artículo, este tamaño máximo sera dinámico (hay que investigar más esto)\n",
    "\n",
    "\n",
    "---\n",
    "#### Dudas\n",
    "\n",
    "- Paso 2 del algoritmo (¿cómo se hace el incremento aleatorio de la dirección?)\n",
    "- mngli vs mnli\n",
    "- U-function <span style=\"color:red;font-size:20px\"> <-- ¡¡IMPORTANTE!! </span>\n",
    "\n",
    "\n",
    "---\n",
    "\n",
    "#### Comentarios\n",
    "\n",
    "Un multi-state series-parallel system (MSS) es un sistema que tiene un número de componentes puestos en serie. Cada componente puede tener uno o más elementos del mismo tipo puestos en paralelo para aumentar la redundancia, y por tanto la fiabilidad del sistema, pero aumentando también su coste. El objetivo es minimizar el coste del diseño del sistema cumpliendo un requisito mínimo de fiabilidad.\n",
    "\n",
    "Una vez seleccionada una version de un elemento para un componente, sólo se puede generar redundancia con elementos de esa versión.\n",
    "\n",
    "- Solución inicial: Cada componente del sistema contiene sólo UN elemento de la VERSIÓN 1\n",
    "- Incrementar la dirección de la solución actual aleatoriamente\n",
    "- Aplicar búsqueda tabú al subespacio comprendido por los vecinos de la solución actual\n",
    "\n",
    "\n",
    "La disponibilidad del sistema es el score que se va a considerar para evaluar la bondad de una solución, y es todo el rollo ese de las transformadas y nosecuanto que se aplica a las fiabilidades nominales (W) de cada elemento individual: Para cada componente, los rendimientos de los distintos elementos en paralelo se suman a través de la u-transformada esa rara. Para todos los componentes del sistema, el rendimiento es el mínimo de los rendimientos de los componentes, pero también a través de la u-transformada. (Miratelo Alvaro que por más que rasco no lo entiendo)\n",
    "\n",
    "El espacio de estados -denotado como S- tiene (N - 2s + 1) posibles particiones (desde la mínima dirección posible, 2s; hasta la máxima, N).\n",
    "\n",
    "A la hora de aplicar TS a un subespacio dado, es necesario extraer una estructura de **vecindario** para el mismo. Ésta estructura se obtiene a partir de todos los posibles movimientos únicos aplicados a la solución actual Y. Es necesario puntualizar que durante esta operación, la dirección (suma de las versiones de cada componente y redundancia de cada uno) de los vecinos se mantiene igual respecto a la de la solución original.\n",
    "\n",
    "Un **movimiento** consiste en sumar y restar uno al número de versión y al de redundancia de cada componente de la solución, lo cual puede realizarse de tres maneras:\n",
    "\n",
    "- Cambiando el número de redundancia de los componentes\n",
    "- Cambiando el número de versión de los componentes\n",
    "- Cambiando tanto el número de redundancia como el número de versión de los componentes\n",
    "\n",
    "De entre todos los vecinos será necesario **descartar** los que sean tabú en el momento determinado y escoger aquel considerado como **mejor solución (Y’)**. Ésta solución deberá añadirse a la **lista tabú** (una lista limitada donde se almacenan las soluciones escogidas más recientes). <span style='color:#f1c232;'>El tamaño de ésta lista tabú tenemos que ver cómo lo calculamos.</span>  \n",
    "Además, permitiremos que se pueda seleccionar una solución con una disponibilidad menor a la mínima requerida (A<sub>0</sub>), de tal manera que podamos atravesar la región no factible de soluciones. Para ello **añadiremos una penalización ponderada** a la función de coste para aquellas soluciones que violen las restricciones de disponibilidad.\n",
    "\n",
    "Criterio de parada:"
   ]
  },
  {
   "cell_type": "code",
   "execution_count": 15,
   "metadata": {},
   "outputs": [],
   "source": [
    "import random"
   ]
  },
  {
   "cell_type": "code",
   "execution_count": 54,
   "metadata": {},
   "outputs": [],
   "source": [
    "# Esquema general de la búsqueda tabú\n",
    "# https://en.wikipedia.org/wiki/Tabu_search\n",
    "class TabuSearch():\n",
    "    \"\"\"\n",
    "    s: número de componentes del sistema\n",
    "    X_max: vector indicando el máximo Xi permitido (lista)\n",
    "    J_max: vector indicando el máximo Ji permitido (lista)\n",
    "    A: vector de disponibilidad de cada versión de los componente (lista de listas)\n",
    "    C: vector de costes de cada versión de los componentes (lista de listas)\n",
    "    W: vector de rendimientos nominales de cada versión de los componentes (lista de listas)\n",
    "    discount_func: función de descuentos (función)\n",
    "    W_T: [(w_k,t_k),...] rendimiento w_k requerido durante t_k unidades de tiempo (lista de tuplas)\n",
    "    q: penalización\n",
    "    mnli: número máximo de iteraciones locales después de encontrar la mejor solución \n",
    "    mngi: número máximo de iteraciones globales después de encontrar la mejor solución\n",
    "    \"\"\"\n",
    "    def __init__(self, s, X_max, J_max, A, C, W, discount_func, W_T, q, mnli, mngi):\n",
    "        self.s = s\n",
    "        self.X_max = X_max\n",
    "        self.J_max = J_max\n",
    "        self.A = A\n",
    "        self.C = C\n",
    "        self.W = W\n",
    "        self.discount_func = discount_func\n",
    "        self.W_T = W_T\n",
    "        self.q = q\n",
    "        self.mnli = mnli\n",
    "        self.mngi = mngi\n",
    "    \n",
    "    def ts(self):\n",
    "        stop_cond = self.mngi\n",
    "        s0 = self.generate_s0()\n",
    "        s_best = s0\n",
    "        while stop_cond:\n",
    "            stop_cond-=1\n",
    "            s_cand = self.random_modification(s_best)\n",
    "            s_sub_cand = self.ts_sub(s_cand)\n",
    "            if(self.score(s_sub_cand)>self.score(s_best)):\n",
    "                s_best=s_sub_cand\n",
    "                stop_cond = self.mngi \n",
    "            \n",
    "        return s_best\n",
    "    \n",
    "    def ts_sub(self, s0):\n",
    "        s_best = s0\n",
    "        stop_cond = self.mnli\n",
    "        tabu_list = []\n",
    "        tabu_list.append(s0)\n",
    "        while stop_cond:\n",
    "            stop_cond-=1  \n",
    "            s_neighbors = self.neighborhood(s0, tabu_list)\n",
    "            if(len(s_neighbors) == 0):\n",
    "                continue\n",
    "            s_cand = s_neighbors.pop()\n",
    "            for neighbor in s_neighbors:\n",
    "                if (not neighbor in tabu_list and self.score(neighbor)>self.score(s_cand)):\n",
    "                    s_cand = neighbor\n",
    "            if(self.score(s_cand)>self.score(s_best)):\n",
    "                s_best=s_cand\n",
    "                stop_cond = self.mnli\n",
    "            tabu_list.append(s_cand)\n",
    "            if(len(tabu_list) > self.mnli ):\n",
    "                del tabu_list[0]\n",
    "                          \n",
    "        return s_best\n",
    "    \n",
    "    \n",
    "    def neighborhood(self, solution, tabu_list):\n",
    "        # Devuelve la lista de vecinos de solution\n",
    "        def is_valid_neighbor(n, i1, i2):\n",
    "            ''' Checkea si la modificación de Xi y/o de Ji de un vecino dado es válida (si estos valores se sitúan \n",
    "            entre 1 y X_max/J_max) y comprueba si no se encuentra ya en la lista tabu'''\n",
    "            return (n[i1] in range(1, (self.X_max + self.J_max)[i1]+1) and\n",
    "               n[i2] in range(1, (self.X_max + self.J_max)[i2]+1) and n not in tabu_list)\n",
    "\n",
    "        def add_subtract_one_at_indexes(l,i1,i2):\n",
    "            ''' Dados dos índices (i1,i2), se aplican las modificaciones (+1,-1) y (-1,+1) en los elementos\n",
    "             correspondientes a las posiciones de dichos índices en la solución dada. Además, se checkea si\n",
    "             dicha modificación es válida'''\n",
    "            n1,n2 = l.copy(), l.copy()        \n",
    "            n1[i1],n1[i2] = n1[i1]+1,n1[i2]-1\n",
    "            n2[i1],n2[i2] = n2[i1]-1,n2[i2]+1            \n",
    "            return [ n for n in [n1, n2] if is_valid_neighbor(n, i1, i2)]\n",
    "\n",
    "        return [ n for i1 in range(len(solution)-1) \n",
    "                     for i2 in range(i1+1, len(solution)) \n",
    "                        for n in add_subtract_one_at_indexes(solution,i1,i2)]\n",
    "    \n",
    "    \n",
    "    def score(self, solution):\n",
    "        # Devuelve el score de solution de acuerdo con la heuristica del articulo\n",
    "        return 1\n",
    "    \n",
    "    def generate_s0(self):\n",
    "        s0 = [1,1]*self.s\n",
    "        return s0\n",
    "    \n",
    "    def address(self, solution):\n",
    "        return sum(solution)    \n",
    "    \n",
    "    def random_modification(self, solution):\n",
    "        return solution\n"
   ]
  },
  {
   "cell_type": "code",
   "execution_count": 57,
   "metadata": {},
   "outputs": [],
   "source": [
    "#%timeit -r 3 ns = neighborhood([ random.choice(range(10)) for _ in range(500)], [10]*500, [10]*500)"
   ]
  },
  {
   "cell_type": "code",
   "execution_count": 58,
   "metadata": {},
   "outputs": [],
   "source": [
    "t = TabuSearch(4, [10]*4, [10]*4, [],\n",
    "           [], [], (lambda x: x), [], 1, 20, 50)"
   ]
  },
  {
   "cell_type": "code",
   "execution_count": 59,
   "metadata": {},
   "outputs": [
    {
     "data": {
      "text/plain": [
       "[2, 4, 5, 4, 8, 4, 2, 4]"
      ]
     },
     "execution_count": 59,
     "metadata": {},
     "output_type": "execute_result"
    }
   ],
   "source": [
    "t.ts_sub([2,4,5,4,8,4,2,4])"
   ]
  },
  {
   "cell_type": "code",
   "execution_count": 60,
   "metadata": {},
   "outputs": [
    {
     "data": {
      "text/plain": [
       "[1, 1, 1, 1, 1, 1, 1, 1]"
      ]
     },
     "execution_count": 60,
     "metadata": {},
     "output_type": "execute_result"
    }
   ],
   "source": [
    "t.ts()"
   ]
  },
  {
   "cell_type": "code",
   "execution_count": null,
   "metadata": {},
   "outputs": [],
   "source": []
  },
  {
   "cell_type": "code",
   "execution_count": null,
   "metadata": {},
   "outputs": [],
   "source": []
  },
  {
   "cell_type": "code",
   "execution_count": null,
   "metadata": {},
   "outputs": [],
   "source": []
  }
 ],
 "metadata": {
  "kernelspec": {
   "display_name": "Python 3",
   "language": "python",
   "name": "python3"
  },
  "language_info": {
   "codemirror_mode": {
    "name": "ipython",
    "version": 3
   },
   "file_extension": ".py",
   "mimetype": "text/x-python",
   "name": "python",
   "nbconvert_exporter": "python",
   "pygments_lexer": "ipython3",
   "version": "3.6.4"
  }
 },
 "nbformat": 4,
 "nbformat_minor": 2
}
