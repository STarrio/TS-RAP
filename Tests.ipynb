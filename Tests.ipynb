{
 "cells": [
  {
   "cell_type": "markdown",
   "metadata": {
    "collapsed": true
   },
   "source": [
    "# Trabajo MC\n",
    "## Redundancy Allocation Problem with Tabu Search\n",
    "\n",
    "#### TO-DO LIST\n",
    "- Implementar búsqueda tabú x\n",
    " - <span style=\"color:gray\">(Tener en cuenta el tamaño máximo de la lista tabú {1}) </span>\n",
    "- Estudiar heurística explicada en el paper\n",
    "- Aplicar la heurística al algoritmo\n",
    "- Desarrollar funciones de generación de problemas\n",
    "- Desarrollar funciones de representación gráfica\n",
    "\n",
    "\n",
    "> {1} Según el artículo, este tamaño máximo sera dinámico (hay que investigar más esto)\n",
    "\n",
    "\n",
    "---\n",
    "#### Dudas\n",
    "\n",
    "- Paso 2 del algoritmo (¿cómo se hace el incremento aleatorio de la dirección?)\n",
    "- mngli vs mnli\n",
    "- U-function <span style=\"color:red;font-size:20px\"> <-- ¡¡IMPORTANTE!! </span>\n",
    "\n",
    "\n",
    "---\n",
    "\n",
    "#### Comentarios\n",
    "\n",
    "Un multi-state series-parallel system (MSS) es un sistema que tiene un número de componentes puestos en serie. Cada componente puede tener uno o más elementos del mismo tipo puestos en paralelo para aumentar la redundancia, y por tanto la fiabilidad del sistema, pero aumentando también su coste. El objetivo es minimizar el coste del diseño del sistema cumpliendo un requisito mínimo de fiabilidad.\n",
    "\n",
    "Una vez seleccionada una version de un elemento para un componente, sólo se puede generar redundancia con elementos de esa versión.\n",
    "\n",
    "- Solución inicial: Cada componente del sistema contiene sólo UN elemento de la VERSIÓN 1\n",
    "- Incrementar la dirección de la solución actual aleatoriamente\n",
    "- Aplicar búsqueda tabú al subespacio comprendido por los vecinos de la solución actual\n",
    "\n",
    "\n",
    "La disponibilidad del sistema es el score que se va a considerar para evaluar la bondad de una solución, y es todo el rollo ese de las transformadas y nosecuanto que se aplica a las fiabilidades nominales (W) de cada elemento individual: Para cada componente, los rendimientos de los distintos elementos en paralelo se suman a través de la u-transformada esa rara. Para todos los componentes del sistema, el rendimiento es el mínimo de los rendimientos de los componentes, pero también a través de la u-transformada. (Miratelo Alvaro que por más que rasco no lo entiendo)\n",
    "\n",
    "El espacio de estados -denotado como S- tiene (N - 2s + 1) posibles particiones (desde la mínima dirección posible, 2s; hasta la máxima, N).\n",
    "\n",
    "A la hora de aplicar TS a un subespacio dado, es necesario extraer una estructura de **vecindario** para el mismo. Ésta estructura se obtiene a partir de todos los posibles movimientos únicos aplicados a la solución actual Y. Es necesario puntualizar que durante esta operación, la dirección (suma de las versiones de cada componente y redundancia de cada uno) de los vecinos se mantiene igual respecto a la de la solución original.\n",
    "\n",
    "Un **movimiento** consiste en sumar y restar uno al número de versión y al de redundancia de cada componente de la solución, lo cual puede realizarse de tres maneras:\n",
    "\n",
    "- Cambiando el número de redundancia de los componentes\n",
    "- Cambiando el número de versión de los componentes\n",
    "- Cambiando tanto el número de redundancia como el número de versión de los componentes\n",
    "\n",
    "De entre todos los vecinos será necesario **descartar** los que sean tabú en el momento determinado y escoger aquel considerado como **mejor solución (Y’)**. Ésta solución deberá añadirse a la **lista tabú** (una lista limitada donde se almacenan las soluciones escogidas más recientes). <span style='color:#f1c232;'>El tamaño de ésta lista tabú tenemos que ver cómo lo calculamos.</span>  \n",
    "Además, permitiremos que se pueda seleccionar una solución con una disponibilidad menor a la mínima requerida (A<sub>0</sub>), de tal manera que podamos atravesar la región no factible de soluciones. Para ello **añadiremos una penalización ponderada** a la función de coste para aquellas soluciones que violen las restricciones de disponibilidad.\n",
    "\n",
    "Criterio de parada:"
   ]
  },
  {
   "cell_type": "code",
   "execution_count": 1,
   "metadata": {
    "collapsed": false
   },
   "outputs": [],
   "source": [
    "from TabuSearch import TabuSearch"
   ]
  },
  {
   "cell_type": "code",
   "execution_count": 2,
   "metadata": {
    "collapsed": true
   },
   "outputs": [],
   "source": [
    "def str_to_problem(s, structure):\n",
    "    lines = s.split(\"\\n\")\n",
    "    \n",
    "    A,C,W = [],[],[]\n",
    "    for i,l in list(enumerate(lines)):\n",
    "        if(len(l.strip().split(\" \"))>4):\n",
    "            lines[i]=l.strip().split(\" \")[1:]\n",
    "        else:\n",
    "            lines[i]=l.strip().split(\" \")\n",
    "    c0=0\n",
    "    for n,c in list(enumerate(structure)):\n",
    "        A.append([])\n",
    "        C.append([])\n",
    "        W.append([])\n",
    "        for i in range(c):\n",
    "            A[n].append(float(lines[i+c0][1]))\n",
    "            C[n].append(float(lines[i+c0][2]))\n",
    "            W[n].append(float(lines[i+c0][3]))\n",
    "        c0+=c\n",
    "    return A,C,W"
   ]
  },
  {
   "cell_type": "code",
   "execution_count": 3,
   "metadata": {
    "collapsed": true
   },
   "outputs": [],
   "source": [
    "''' Problem 1 -> lis4-(7/11)-4'''\n",
    "def problem_1(a_0):\n",
    "    s = 4\n",
    "    A_0 = [0.910, 0.920, 0.940, 0.950, 0.960, 0.970, 0.980, 0.990, 0.999] # <- SOLO SELECCIONAR UNO \n",
    "    X_max = [10]*4\n",
    "    J_max = [11,7,9,7]\n",
    "    \n",
    "    A, C, W  = str_to_problem(\"1 1 0.990 1.117 25 \\n 2 0.996 1.310 25 \\n 3 0.995 1.903 35 \\n 4 0.961 1.640 35 \\n 5 0.993 2.122 50 \\n 6 0.957 1.910 50 \\n 7 0.942 1.722 50 \\n 8 0.991 2.591 72 \\n 9 0.951 2.001 72 \\n 10 0.986 3.284 100 \\n 11 0.979 3.095 100 \\n 2 1 0.967 4.010 40 \\n 2 0.914 3.450 40 \\n 3 0.960 4.350 55 \\n 4 0.953 4.840 78 \\n 5 0.920 4.210 78 \\n 6 0.950 5.800 93 \\n 7 0.948 6.550 110 \\n 3 1 0.967 0.636 25 \\n 2 0.952 0.448 35 \\n 3 0.973 0.868 35 \\n 4 0.972 0.964 50 \\n 5 0.949 0.678 50 \\n 6 0.988 1.096 50 \\n 7 0.966 1.358 72 \\n 8 0.954 1.298 72 \\n 9 0.945 1.810 100 \\n 4 1 0.987 0.614 12.5 \\n 2 0.985 0.883 25 \\n 3 0.961 0.745 25 \\n 4 0.980 0.963 30 \\n 5 0.958 0.885 30 \\n 6 0.974 1.338 45 \\n 7 0.982 1.445 45\", J_max)    \n",
    "    W_T = [(100, 4260),(80, 800), (50, 1200), (20, 2496)]\n",
    "    q = 100\n",
    "    mnli = 200\n",
    "    mngi = 500\n",
    "    def discount_function(c, x):\n",
    "        m_1_2 = [(3,5), (3,3), (3,3), (2,6)]\n",
    "        disc_1_2 = [(0.90,0.80), (0.85,0.85), (0.95, 0.95), (0.95, 0.90)]\n",
    "        if m_1_2[c][0] >= x:\n",
    "            return 1\n",
    "        if m_1_2[c][0] < x <= m_1_2[c][1]:\n",
    "            return disc_1_2[c][0]\n",
    "        else:\n",
    "            return disc_1_2[c][1]\n",
    "        \n",
    "    return TabuSearch(s, A_0[a_0], X_max, J_max, A, C, W, W_T, q, mnli, mngi,discount_function )"
   ]
  },
  {
   "cell_type": "code",
   "execution_count": 4,
   "metadata": {
    "collapsed": false
   },
   "outputs": [
    {
     "name": "stdout",
     "output_type": "stream",
     "text": [
      "[1, 1, 1, 1, 1, 1, 1, 2] 9\n",
      "[1, 1, 2, 1, 1, 1, 1, 2] 10\n",
      "[1, 1, 2, 1, 1, 1, 2, 2] 11\n"
     ]
    },
    {
     "data": {
      "text/plain": [
       "[1, 1, 2, 1, 1, 1, 2, 2]"
      ]
     },
     "execution_count": 4,
     "metadata": {},
     "output_type": "execute_result"
    }
   ],
   "source": [
    "#Si da\n",
    "p_1 = problem_1(0)\n",
    "p_1.ts()"
   ]
  },
  {
   "cell_type": "code",
   "execution_count": 5,
   "metadata": {
    "collapsed": false
   },
   "outputs": [
    {
     "data": {
      "text/plain": [
       "71.087470674691872"
      ]
     },
     "execution_count": 5,
     "metadata": {},
     "output_type": "execute_result"
    }
   ],
   "source": [
    "#No da\n",
    "p_1.score([1, 1, 2, 1, 1, 1, 2, 2])"
   ]
  },
  {
   "cell_type": "code",
   "execution_count": 8,
   "metadata": {
    "collapsed": true
   },
   "outputs": [],
   "source": [
    "''' Problem 2 -> lev5-(4/9)-4 '''\n",
    "def problem_2(a_0):\n",
    "    s = 5\n",
    "\n",
    "    A_0 = [0.975, 0.98, 0.990] # <- SOLO SELECCIONAR UNO \n",
    "    X_max = [10]*4\n",
    "    J_max = [7,5,4,9,4]\n",
    "    \n",
    "    A, C, W  = str_to_problem(\"1 1 0.980 0.590 120 \\n 2 0.977 0.535 100 \\n 3 0.982 0.470 85 \\n 4 0.978 0.420 85 \\n 5 0.983 0.400 48 \\n 6 0.920 0.180 31 \\n 7 0.984 0.220 26 \\n 2 1 0.995 0.205 100 \\n 2 0.996 0.189 92 \\n 3 0.997 0.091 53 \\n 4 0.997 0.056 28 \\n 5 0.998 0.042 21 \\n 3 1 0.971 7.525 100 \\n 2 0.973 4.720 60 \\n 3 0.971 3.590 40 \\n 4 0.976 2.420 20 \\n 4 1 0.977 0.180 115 \\n 2 0.978 0.160 100 \\n 3 0.978 0.150 91 \\n 4 0.983 0.121 72 \\n 5 0.981 0.102 72 \\n 6 0.971 0.096 72 \\n 7 0.983 0.071 55 \\n 8 0.982 0.049 25 \\n 9 0.977 0.044 25 \\n 5 1 0.984 0.986 128 \\n 2 0.983 0.825 100 \\n 3 0.987 0.490 60 \\n 4 0.981 0.475 51\",J_max)    \n",
    "    W_T = [(100, 4203),(80, 788), (50, 1228), (20, 2536)]\n",
    "    q = 5000\n",
    "    mnli = 500\n",
    "    mngi = 4000\n",
    "    \n",
    "    return TabuSearch(s, A_0[a_0], X_max, J_max, A, C, W, W_T, q, mnli, mngi)"
   ]
  },
  {
   "cell_type": "code",
   "execution_count": 10,
   "metadata": {
    "collapsed": false,
    "scrolled": true
   },
   "outputs": [
    {
     "data": {
      "text/plain": [
       "61.93"
      ]
     },
     "execution_count": 10,
     "metadata": {},
     "output_type": "execute_result"
    }
   ],
   "source": [
    "# Works like a charm <3\n",
    "p_2 = problem_2(1)\n",
    "p_2.score([10,10,10,10,10,2,5,2,7,2])"
   ]
  },
  {
   "cell_type": "code",
   "execution_count": 309,
   "metadata": {
    "collapsed": true
   },
   "outputs": [],
   "source": [
    "''' Problem 3 -> lev4-(4/6)-3 '''\n",
    "def problem_3(a_0):\n",
    "    s = 4\n",
    "    A_0 = [0.9, 0.96, 0.99] # <- SOLO SELECCIONAR UNO \n",
    "    X_max = [10]*4\n",
    "    J_max = [5, 4, 6, 5]\n",
    "    A = [[0.970, 0.964, 0.980, 0.9869, 0.960],\n",
    "         [0.967, 0.914, 0.960, 0.953],\n",
    "         [0.959,0.970,0.959, 0.960, 0.970, 0.960],\n",
    "         [0.989, 0.979, 0.980, 0.960, 0.980]]\n",
    "    C = [[0.520, 0.620, 0.720, 0.890, 1.020],\n",
    "         [0.516, 0.916, 0.967, 1.367],\n",
    "         [0.214, 0.384, 0.534, 0.614, 0.783, 0.813],\n",
    "         [0.683, 0.645, 0.697, 1.190, 1.260]]\n",
    "    W = [[50, 80, 80, 100, 150],\n",
    "         [20, 50, 50, 75],\n",
    "         [60, 90, 180, 200, 200, 240],\n",
    "         [25, 25, 30, 70, 70]]\n",
    "    W_T = [(100, 20),(80, 30), (40, 50)]\n",
    "    q = 100\n",
    "    mnli = 200\n",
    "    mngi = 500\n",
    "    \n",
    "    return TabuSearch(s, A_0[a_0], X_max, J_max, A, C, W, W_T, q, mnli, mngi)"
   ]
  },
  {
   "cell_type": "code",
   "execution_count": 310,
   "metadata": {
    "collapsed": false
   },
   "outputs": [
    {
     "data": {
      "text/plain": [
       "5.986"
      ]
     },
     "execution_count": 310,
     "metadata": {},
     "output_type": "execute_result"
    }
   ],
   "source": [
    "p_3 = problem_3(0)\n",
    "p_3.score([1,2,3,2,4,3,1,5])"
   ]
  },
  {
   "cell_type": "code",
   "execution_count": 14,
   "metadata": {
    "collapsed": true
   },
   "outputs": [],
   "source": [
    "''' Problem 4 '''\n",
    "def problem_4(a_0):\n",
    "    s = 6\n",
    "    A_0 = [0.975, 0.98, 0.99] # <- SOLO SELECCIONAR UNO \n",
    "    X_max = [10]*6\n",
    "    J_max = [11, 8, 9, 4, 4, 6]\n",
    "    \n",
    "    A, C, W  = str_to_problem(\"1 1 0.932 1.590 27.3 \\n 2 0.998 0.515 27.7 \\n 3 0.983 0.225 49.8 \\n 4 0.927 3.220 52.5 \\n 5 0.959 4.020 62.0 \\n 6 0.955 4.270 66.4 \\n 7 0.984 3.670 84.6 \\n 8 0.918 4.630 90.7 \\n 9 0.939 1.010 97.0 \\n 10 0.988 0.779 124 \\n 11 0.984 3.130 129 \\n 2 1 0.989 0.050 35.9 \\n 2 0.923 1.290 44.7 \\n 3 0.900 0.204 51.4 \\n 4 0.946 2.220 63.2 \\n 5 0.917 0.872 68.8 \\n 6 0.962 1.830 81.8 \\n 7 0.994 0.294 82.0 \\n 8 0.984 2.810 115 \\n 3 1 0.931 3.620 34.7 \\n 2 0.950 0.475 41.0 \\n 3 0.911 1.170 41.4 \\n 4 0.956 0.793 43.6 \\n 5 0.966 3.740 48.6 \\n 6 0.992 4.590 59.6 \\n 7 0.929 1.740 66.2 \\n 8 0.968 1.720 91.9 \\n 9 0.901 1.300 121 \\n 4 1 0.915 2.490 25.1 \\n 2 0.908 0.078 28.8 \\n 3 0.928 1.370 50.2 \\n 4 0.944 4.470 129 \\n 5 1 0.908 1.550 34.9 \\n 2 0.980 4.920 64.3 \\n 3 0.964 2.650 108 \\n 4 0.924 4.720 126 \\n 6 1 0.965 3.220 24.8 \\n 2 0.927 2.890 47.3 \\n 3 0.986 3.410 58.8 \\n 4 0.983 1.920 107 \\n 5 0.991 4.510 120 \\n 6 0.954 4.580 125\", J_max)    \n",
    "    W_T = [(100, 4203),(80, 788), (50, 1228), (20, 2536)]\n",
    "    q = 400\n",
    "    mnli = 35\n",
    "    mngi = 100\n",
    "    \n",
    "    return TabuSearch(s, A_0[a_0], X_max, J_max, A, C, W, W_T, q, mnli, mngi)"
   ]
  },
  {
   "cell_type": "code",
   "execution_count": 312,
   "metadata": {
    "collapsed": false
   },
   "outputs": [
    {
     "ename": "NameError",
     "evalue": "name 'problem_4' is not defined",
     "output_type": "error",
     "traceback": [
      "\u001b[0;31m---------------------------------------------------------------------------\u001b[0m",
      "\u001b[0;31mNameError\u001b[0m                                 Traceback (most recent call last)",
      "\u001b[0;32m<ipython-input-312-af65700b8a62>\u001b[0m in \u001b[0;36m<module>\u001b[0;34m()\u001b[0m\n\u001b[0;32m----> 1\u001b[0;31m \u001b[0mp_4\u001b[0m \u001b[0;34m=\u001b[0m \u001b[0mproblem_4\u001b[0m\u001b[0;34m(\u001b[0m\u001b[0;36m0\u001b[0m\u001b[0;34m)\u001b[0m\u001b[0;34m\u001b[0m\u001b[0m\n\u001b[0m\u001b[1;32m      2\u001b[0m \u001b[0mp_4\u001b[0m\u001b[0;34m.\u001b[0m\u001b[0mscore\u001b[0m\u001b[0;34m(\u001b[0m\u001b[0;34m[\u001b[0m\u001b[0;36m4\u001b[0m\u001b[0;34m,\u001b[0m\u001b[0;36m4\u001b[0m\u001b[0;34m,\u001b[0m\u001b[0;36m5\u001b[0m\u001b[0;34m,\u001b[0m\u001b[0;36m7\u001b[0m\u001b[0;34m,\u001b[0m\u001b[0;36m2\u001b[0m\u001b[0;34m,\u001b[0m\u001b[0;36m1\u001b[0m\u001b[0;34m,\u001b[0m\u001b[0;36m3\u001b[0m\u001b[0;34m,\u001b[0m\u001b[0;36m1\u001b[0m\u001b[0;34m,\u001b[0m\u001b[0;36m2\u001b[0m\u001b[0;34m,\u001b[0m\u001b[0;36m2\u001b[0m\u001b[0;34m,\u001b[0m\u001b[0;36m3\u001b[0m\u001b[0;34m,\u001b[0m\u001b[0;36m4\u001b[0m\u001b[0;34m]\u001b[0m\u001b[0;34m)\u001b[0m\u001b[0;34m\u001b[0m\u001b[0m\n",
      "\u001b[0;31mNameError\u001b[0m: name 'problem_4' is not defined"
     ]
    }
   ],
   "source": [
    "p_4 = problem_4(0)\n",
    "print(p_)\n",
    "p_4.score([4,4,5,7,2,1,3,1,2,2,3,4])"
   ]
  },
  {
   "cell_type": "code",
   "execution_count": 36,
   "metadata": {
    "collapsed": false
   },
   "outputs": [
    {
     "name": "stdout",
     "output_type": "stream",
     "text": [
      "[10, 10, 10, 10, 11, 7, 9, 7]\n",
      "1 [10, 11, 10, 10, 11, 7, 9, 6] [0, 2, 3, 4, 5, 6, 7]\n",
      "4 [10, 10, 10, 10, 12, 7, 9, 6] [0, 2, 3, 5, 6, 7]\n",
      "2 [10, 10, 11, 10, 11, 7, 9, 6] [0, 3, 5, 6, 7]\n",
      "5 [10, 10, 10, 10, 11, 8, 9, 6] [0, 3, 6, 7]\n",
      "0 [11, 10, 10, 10, 11, 7, 9, 6] [3, 6, 7]\n",
      "6 [10, 10, 10, 10, 11, 7, 10, 6] [3, 7]\n",
      "3 [10, 10, 10, 11, 11, 7, 9, 6] [7]\n",
      "7 [10, 10, 10, 10, 11, 7, 9, 7] []\n"
     ]
    },
    {
     "data": {
      "text/plain": [
       "[10, 10, 10, 10, 11, 7, 9, 7]"
      ]
     },
     "execution_count": 36,
     "metadata": {},
     "output_type": "execute_result"
    }
   ],
   "source": [
    "print(p_1.X_max+p_1.J_max)\n",
    "p_1.random_modification([10,10,10,10,11,7,9,6])"
   ]
  },
  {
   "cell_type": "code",
   "execution_count": 37,
   "metadata": {
    "collapsed": false
   },
   "outputs": [
    {
     "data": {
      "text/plain": [
       "5"
      ]
     },
     "execution_count": 37,
     "metadata": {},
     "output_type": "execute_result"
    }
   ],
   "source": [
    "random.choice([1,4,5,7])"
   ]
  },
  {
   "cell_type": "code",
   "execution_count": 11,
   "metadata": {
    "collapsed": true
   },
   "outputs": [],
   "source": [
    "import numpy as np\n",
    "from scipy.stats import binom"
   ]
  },
  {
   "cell_type": "code",
   "execution_count": 12,
   "metadata": {
    "collapsed": false
   },
   "outputs": [],
   "source": [
    "solution = [8, 8, 8, 9, 5, 4, 6, 5]\n",
    "J_max = [11,7,9,7]\n",
    "W_T = [(100, 4260),(80, 800), (50, 1200), (20, 2496)]\n",
    "A, C, W  = str_to_problem(\"1 1 0.990 1.117 25 \\n 2 0.996 1.310 25 \\n 3 0.995 1.903 35 \\n 4 0.961 1.640 35 \\n 5 0.993 2.122 50 \\n 6 0.957 1.910 50 \\n 7 0.942 1.722 50 \\n 8 0.991 2.591 72 \\n 9 0.951 2.001 72 \\n 10 0.986 3.284 100 \\n 11 0.979 3.095 100 \\n 2 1 0.967 4.010 40 \\n 2 0.914 3.450 40 \\n 3 0.960 4.350 55 \\n 4 0.953 4.840 78 \\n 5 0.920 4.210 78 \\n 6 0.950 5.800 93 \\n 7 0.948 6.550 110 \\n 3 1 0.967 0.636 25 \\n 2 0.952 0.448 35 \\n 3 0.973 0.868 35 \\n 4 0.972 0.964 50 \\n 5 0.949 0.678 50 \\n 6 0.988 1.096 50 \\n 7 0.966 1.358 72 \\n 8 0.954 1.298 72 \\n 9 0.945 1.810 100 \\n 4 1 0.987 0.614 12.5 \\n 2 0.985 0.883 25 \\n 3 0.961 0.745 25 \\n 4 0.980 0.963 30 \\n 5 0.958 0.885 30 \\n 6 0.974 1.338 45 \\n 7 0.982 1.445 45\", J_max)    "
   ]
  },
  {
   "cell_type": "markdown",
   "metadata": {},
   "source": [
    "## "
   ]
  },
  {
   "cell_type": "code",
   "execution_count": 13,
   "metadata": {
    "collapsed": false
   },
   "outputs": [],
   "source": [
    "def rec(index):\n",
    "    if(index == 3):                   \n",
    "        return list(range(1, solution[index]+1))\n",
    "    else:\n",
    "        return [ [x, c] if( type(c) is not list) else [x]+c for x in range(1, solution[index]+1) for c in rec(index+1) ]\n",
    "def extract_possible_m():\n",
    "    return rec(0)"
   ]
  },
  {
   "cell_type": "code",
   "execution_count": 14,
   "metadata": {
    "collapsed": false
   },
   "outputs": [
    {
     "name": "stdout",
     "output_type": "stream",
     "text": [
      "CPU times: user 4.86 ms, sys: 7 µs, total: 4.87 ms\n",
      "Wall time: 4.75 ms\n"
     ]
    },
    {
     "data": {
      "text/plain": [
       "4608"
      ]
     },
     "execution_count": 14,
     "metadata": {},
     "output_type": "execute_result"
    }
   ],
   "source": [
    "%time len(rec(0))"
   ]
  },
  {
   "cell_type": "code",
   "execution_count": 15,
   "metadata": {
    "collapsed": true
   },
   "outputs": [],
   "source": [
    "rec=rec(0)"
   ]
  },
  {
   "cell_type": "code",
   "execution_count": 16,
   "metadata": {
    "collapsed": false
   },
   "outputs": [
    {
     "ename": "NameError",
     "evalue": "name 'm_performance' is not defined",
     "output_type": "error",
     "traceback": [
      "\u001b[0;31m---------------------------------------------------------------------------\u001b[0m",
      "\u001b[0;31mNameError\u001b[0m                                 Traceback (most recent call last)",
      "\u001b[0;32m<ipython-input-16-5cfbd1e7a819>\u001b[0m in \u001b[0;36m<module>\u001b[0;34m()\u001b[0m\n\u001b[0;32m----> 1\u001b[0;31m \u001b[0mget_ipython\u001b[0m\u001b[0;34m(\u001b[0m\u001b[0;34m)\u001b[0m\u001b[0;34m.\u001b[0m\u001b[0mmagic\u001b[0m\u001b[0;34m(\u001b[0m\u001b[0;34m'time len(sorted(rec,key=lambda k: m_performance(k)))'\u001b[0m\u001b[0;34m)\u001b[0m\u001b[0;34m\u001b[0m\u001b[0m\n\u001b[0m",
      "\u001b[0;32m/usr/lib/python3/dist-packages/IPython/core/interactiveshell.py\u001b[0m in \u001b[0;36mmagic\u001b[0;34m(self, arg_s)\u001b[0m\n\u001b[1;32m   2156\u001b[0m         \u001b[0mmagic_name\u001b[0m\u001b[0;34m,\u001b[0m \u001b[0m_\u001b[0m\u001b[0;34m,\u001b[0m \u001b[0mmagic_arg_s\u001b[0m \u001b[0;34m=\u001b[0m \u001b[0marg_s\u001b[0m\u001b[0;34m.\u001b[0m\u001b[0mpartition\u001b[0m\u001b[0;34m(\u001b[0m\u001b[0;34m' '\u001b[0m\u001b[0;34m)\u001b[0m\u001b[0;34m\u001b[0m\u001b[0m\n\u001b[1;32m   2157\u001b[0m         \u001b[0mmagic_name\u001b[0m \u001b[0;34m=\u001b[0m \u001b[0mmagic_name\u001b[0m\u001b[0;34m.\u001b[0m\u001b[0mlstrip\u001b[0m\u001b[0;34m(\u001b[0m\u001b[0mprefilter\u001b[0m\u001b[0;34m.\u001b[0m\u001b[0mESC_MAGIC\u001b[0m\u001b[0;34m)\u001b[0m\u001b[0;34m\u001b[0m\u001b[0m\n\u001b[0;32m-> 2158\u001b[0;31m         \u001b[0;32mreturn\u001b[0m \u001b[0mself\u001b[0m\u001b[0;34m.\u001b[0m\u001b[0mrun_line_magic\u001b[0m\u001b[0;34m(\u001b[0m\u001b[0mmagic_name\u001b[0m\u001b[0;34m,\u001b[0m \u001b[0mmagic_arg_s\u001b[0m\u001b[0;34m)\u001b[0m\u001b[0;34m\u001b[0m\u001b[0m\n\u001b[0m\u001b[1;32m   2159\u001b[0m \u001b[0;34m\u001b[0m\u001b[0m\n\u001b[1;32m   2160\u001b[0m     \u001b[0;31m#-------------------------------------------------------------------------\u001b[0m\u001b[0;34m\u001b[0m\u001b[0;34m\u001b[0m\u001b[0m\n",
      "\u001b[0;32m/usr/lib/python3/dist-packages/IPython/core/interactiveshell.py\u001b[0m in \u001b[0;36mrun_line_magic\u001b[0;34m(self, magic_name, line)\u001b[0m\n\u001b[1;32m   2077\u001b[0m                 \u001b[0mkwargs\u001b[0m\u001b[0;34m[\u001b[0m\u001b[0;34m'local_ns'\u001b[0m\u001b[0;34m]\u001b[0m \u001b[0;34m=\u001b[0m \u001b[0msys\u001b[0m\u001b[0;34m.\u001b[0m\u001b[0m_getframe\u001b[0m\u001b[0;34m(\u001b[0m\u001b[0mstack_depth\u001b[0m\u001b[0;34m)\u001b[0m\u001b[0;34m.\u001b[0m\u001b[0mf_locals\u001b[0m\u001b[0;34m\u001b[0m\u001b[0m\n\u001b[1;32m   2078\u001b[0m             \u001b[0;32mwith\u001b[0m \u001b[0mself\u001b[0m\u001b[0;34m.\u001b[0m\u001b[0mbuiltin_trap\u001b[0m\u001b[0;34m:\u001b[0m\u001b[0;34m\u001b[0m\u001b[0m\n\u001b[0;32m-> 2079\u001b[0;31m                 \u001b[0mresult\u001b[0m \u001b[0;34m=\u001b[0m \u001b[0mfn\u001b[0m\u001b[0;34m(\u001b[0m\u001b[0;34m*\u001b[0m\u001b[0margs\u001b[0m\u001b[0;34m,\u001b[0m\u001b[0;34m**\u001b[0m\u001b[0mkwargs\u001b[0m\u001b[0;34m)\u001b[0m\u001b[0;34m\u001b[0m\u001b[0m\n\u001b[0m\u001b[1;32m   2080\u001b[0m             \u001b[0;32mreturn\u001b[0m \u001b[0mresult\u001b[0m\u001b[0;34m\u001b[0m\u001b[0m\n\u001b[1;32m   2081\u001b[0m \u001b[0;34m\u001b[0m\u001b[0m\n",
      "\u001b[0;32m<decorator-gen-59>\u001b[0m in \u001b[0;36mtime\u001b[0;34m(self, line, cell, local_ns)\u001b[0m\n",
      "\u001b[0;32m/usr/lib/python3/dist-packages/IPython/core/magic.py\u001b[0m in \u001b[0;36m<lambda>\u001b[0;34m(f, *a, **k)\u001b[0m\n\u001b[1;32m    186\u001b[0m     \u001b[0;31m# but it's overkill for just that one bit of state.\u001b[0m\u001b[0;34m\u001b[0m\u001b[0;34m\u001b[0m\u001b[0m\n\u001b[1;32m    187\u001b[0m     \u001b[0;32mdef\u001b[0m \u001b[0mmagic_deco\u001b[0m\u001b[0;34m(\u001b[0m\u001b[0marg\u001b[0m\u001b[0;34m)\u001b[0m\u001b[0;34m:\u001b[0m\u001b[0;34m\u001b[0m\u001b[0m\n\u001b[0;32m--> 188\u001b[0;31m         \u001b[0mcall\u001b[0m \u001b[0;34m=\u001b[0m \u001b[0;32mlambda\u001b[0m \u001b[0mf\u001b[0m\u001b[0;34m,\u001b[0m \u001b[0;34m*\u001b[0m\u001b[0ma\u001b[0m\u001b[0;34m,\u001b[0m \u001b[0;34m**\u001b[0m\u001b[0mk\u001b[0m\u001b[0;34m:\u001b[0m \u001b[0mf\u001b[0m\u001b[0;34m(\u001b[0m\u001b[0;34m*\u001b[0m\u001b[0ma\u001b[0m\u001b[0;34m,\u001b[0m \u001b[0;34m**\u001b[0m\u001b[0mk\u001b[0m\u001b[0;34m)\u001b[0m\u001b[0;34m\u001b[0m\u001b[0m\n\u001b[0m\u001b[1;32m    189\u001b[0m \u001b[0;34m\u001b[0m\u001b[0m\n\u001b[1;32m    190\u001b[0m         \u001b[0;32mif\u001b[0m \u001b[0mcallable\u001b[0m\u001b[0;34m(\u001b[0m\u001b[0marg\u001b[0m\u001b[0;34m)\u001b[0m\u001b[0;34m:\u001b[0m\u001b[0;34m\u001b[0m\u001b[0m\n",
      "\u001b[0;32m/usr/lib/python3/dist-packages/IPython/core/magics/execution.py\u001b[0m in \u001b[0;36mtime\u001b[0;34m(self, line, cell, local_ns)\u001b[0m\n\u001b[1;32m   1174\u001b[0m         \u001b[0;32mif\u001b[0m \u001b[0mmode\u001b[0m\u001b[0;34m==\u001b[0m\u001b[0;34m'eval'\u001b[0m\u001b[0;34m:\u001b[0m\u001b[0;34m\u001b[0m\u001b[0m\n\u001b[1;32m   1175\u001b[0m             \u001b[0mst\u001b[0m \u001b[0;34m=\u001b[0m \u001b[0mclock2\u001b[0m\u001b[0;34m(\u001b[0m\u001b[0;34m)\u001b[0m\u001b[0;34m\u001b[0m\u001b[0m\n\u001b[0;32m-> 1176\u001b[0;31m             \u001b[0mout\u001b[0m \u001b[0;34m=\u001b[0m \u001b[0meval\u001b[0m\u001b[0;34m(\u001b[0m\u001b[0mcode\u001b[0m\u001b[0;34m,\u001b[0m \u001b[0mglob\u001b[0m\u001b[0;34m,\u001b[0m \u001b[0mlocal_ns\u001b[0m\u001b[0;34m)\u001b[0m\u001b[0;34m\u001b[0m\u001b[0m\n\u001b[0m\u001b[1;32m   1177\u001b[0m             \u001b[0mend\u001b[0m \u001b[0;34m=\u001b[0m \u001b[0mclock2\u001b[0m\u001b[0;34m(\u001b[0m\u001b[0;34m)\u001b[0m\u001b[0;34m\u001b[0m\u001b[0m\n\u001b[1;32m   1178\u001b[0m         \u001b[0;32melse\u001b[0m\u001b[0;34m:\u001b[0m\u001b[0;34m\u001b[0m\u001b[0m\n",
      "\u001b[0;32m<timed eval>\u001b[0m in \u001b[0;36m<module>\u001b[0;34m()\u001b[0m\n",
      "\u001b[0;32m<timed eval>\u001b[0m in \u001b[0;36m<lambda>\u001b[0;34m(k)\u001b[0m\n",
      "\u001b[0;31mNameError\u001b[0m: name 'm_performance' is not defined"
     ]
    }
   ],
   "source": [
    "%time len(sorted(rec,key=lambda k: m_performance(k)))"
   ]
  },
  {
   "cell_type": "code",
   "execution_count": 17,
   "metadata": {
    "collapsed": false
   },
   "outputs": [
    {
     "ename": "NameError",
     "evalue": "name 'm_performance' is not defined",
     "output_type": "error",
     "traceback": [
      "\u001b[0;31m---------------------------------------------------------------------------\u001b[0m",
      "\u001b[0;31mNameError\u001b[0m                                 Traceback (most recent call last)",
      "\u001b[0;32m<ipython-input-17-55849af8ae10>\u001b[0m in \u001b[0;36m<module>\u001b[0;34m()\u001b[0m\n\u001b[0;32m----> 1\u001b[0;31m \u001b[0mget_ipython\u001b[0m\u001b[0;34m(\u001b[0m\u001b[0;34m)\u001b[0m\u001b[0;34m.\u001b[0m\u001b[0mmagic\u001b[0m\u001b[0;34m(\u001b[0m\u001b[0;34m'time m_performance([8,8,8,9])'\u001b[0m\u001b[0;34m)\u001b[0m\u001b[0;34m\u001b[0m\u001b[0m\n\u001b[0m",
      "\u001b[0;32m/usr/lib/python3/dist-packages/IPython/core/interactiveshell.py\u001b[0m in \u001b[0;36mmagic\u001b[0;34m(self, arg_s)\u001b[0m\n\u001b[1;32m   2156\u001b[0m         \u001b[0mmagic_name\u001b[0m\u001b[0;34m,\u001b[0m \u001b[0m_\u001b[0m\u001b[0;34m,\u001b[0m \u001b[0mmagic_arg_s\u001b[0m \u001b[0;34m=\u001b[0m \u001b[0marg_s\u001b[0m\u001b[0;34m.\u001b[0m\u001b[0mpartition\u001b[0m\u001b[0;34m(\u001b[0m\u001b[0;34m' '\u001b[0m\u001b[0;34m)\u001b[0m\u001b[0;34m\u001b[0m\u001b[0m\n\u001b[1;32m   2157\u001b[0m         \u001b[0mmagic_name\u001b[0m \u001b[0;34m=\u001b[0m \u001b[0mmagic_name\u001b[0m\u001b[0;34m.\u001b[0m\u001b[0mlstrip\u001b[0m\u001b[0;34m(\u001b[0m\u001b[0mprefilter\u001b[0m\u001b[0;34m.\u001b[0m\u001b[0mESC_MAGIC\u001b[0m\u001b[0;34m)\u001b[0m\u001b[0;34m\u001b[0m\u001b[0m\n\u001b[0;32m-> 2158\u001b[0;31m         \u001b[0;32mreturn\u001b[0m \u001b[0mself\u001b[0m\u001b[0;34m.\u001b[0m\u001b[0mrun_line_magic\u001b[0m\u001b[0;34m(\u001b[0m\u001b[0mmagic_name\u001b[0m\u001b[0;34m,\u001b[0m \u001b[0mmagic_arg_s\u001b[0m\u001b[0;34m)\u001b[0m\u001b[0;34m\u001b[0m\u001b[0m\n\u001b[0m\u001b[1;32m   2159\u001b[0m \u001b[0;34m\u001b[0m\u001b[0m\n\u001b[1;32m   2160\u001b[0m     \u001b[0;31m#-------------------------------------------------------------------------\u001b[0m\u001b[0;34m\u001b[0m\u001b[0;34m\u001b[0m\u001b[0m\n",
      "\u001b[0;32m/usr/lib/python3/dist-packages/IPython/core/interactiveshell.py\u001b[0m in \u001b[0;36mrun_line_magic\u001b[0;34m(self, magic_name, line)\u001b[0m\n\u001b[1;32m   2077\u001b[0m                 \u001b[0mkwargs\u001b[0m\u001b[0;34m[\u001b[0m\u001b[0;34m'local_ns'\u001b[0m\u001b[0;34m]\u001b[0m \u001b[0;34m=\u001b[0m \u001b[0msys\u001b[0m\u001b[0;34m.\u001b[0m\u001b[0m_getframe\u001b[0m\u001b[0;34m(\u001b[0m\u001b[0mstack_depth\u001b[0m\u001b[0;34m)\u001b[0m\u001b[0;34m.\u001b[0m\u001b[0mf_locals\u001b[0m\u001b[0;34m\u001b[0m\u001b[0m\n\u001b[1;32m   2078\u001b[0m             \u001b[0;32mwith\u001b[0m \u001b[0mself\u001b[0m\u001b[0;34m.\u001b[0m\u001b[0mbuiltin_trap\u001b[0m\u001b[0;34m:\u001b[0m\u001b[0;34m\u001b[0m\u001b[0m\n\u001b[0;32m-> 2079\u001b[0;31m                 \u001b[0mresult\u001b[0m \u001b[0;34m=\u001b[0m \u001b[0mfn\u001b[0m\u001b[0;34m(\u001b[0m\u001b[0;34m*\u001b[0m\u001b[0margs\u001b[0m\u001b[0;34m,\u001b[0m\u001b[0;34m**\u001b[0m\u001b[0mkwargs\u001b[0m\u001b[0;34m)\u001b[0m\u001b[0;34m\u001b[0m\u001b[0m\n\u001b[0m\u001b[1;32m   2080\u001b[0m             \u001b[0;32mreturn\u001b[0m \u001b[0mresult\u001b[0m\u001b[0;34m\u001b[0m\u001b[0m\n\u001b[1;32m   2081\u001b[0m \u001b[0;34m\u001b[0m\u001b[0m\n",
      "\u001b[0;32m<decorator-gen-59>\u001b[0m in \u001b[0;36mtime\u001b[0;34m(self, line, cell, local_ns)\u001b[0m\n",
      "\u001b[0;32m/usr/lib/python3/dist-packages/IPython/core/magic.py\u001b[0m in \u001b[0;36m<lambda>\u001b[0;34m(f, *a, **k)\u001b[0m\n\u001b[1;32m    186\u001b[0m     \u001b[0;31m# but it's overkill for just that one bit of state.\u001b[0m\u001b[0;34m\u001b[0m\u001b[0;34m\u001b[0m\u001b[0m\n\u001b[1;32m    187\u001b[0m     \u001b[0;32mdef\u001b[0m \u001b[0mmagic_deco\u001b[0m\u001b[0;34m(\u001b[0m\u001b[0marg\u001b[0m\u001b[0;34m)\u001b[0m\u001b[0;34m:\u001b[0m\u001b[0;34m\u001b[0m\u001b[0m\n\u001b[0;32m--> 188\u001b[0;31m         \u001b[0mcall\u001b[0m \u001b[0;34m=\u001b[0m \u001b[0;32mlambda\u001b[0m \u001b[0mf\u001b[0m\u001b[0;34m,\u001b[0m \u001b[0;34m*\u001b[0m\u001b[0ma\u001b[0m\u001b[0;34m,\u001b[0m \u001b[0;34m**\u001b[0m\u001b[0mk\u001b[0m\u001b[0;34m:\u001b[0m \u001b[0mf\u001b[0m\u001b[0;34m(\u001b[0m\u001b[0;34m*\u001b[0m\u001b[0ma\u001b[0m\u001b[0;34m,\u001b[0m \u001b[0;34m**\u001b[0m\u001b[0mk\u001b[0m\u001b[0;34m)\u001b[0m\u001b[0;34m\u001b[0m\u001b[0m\n\u001b[0m\u001b[1;32m    189\u001b[0m \u001b[0;34m\u001b[0m\u001b[0m\n\u001b[1;32m    190\u001b[0m         \u001b[0;32mif\u001b[0m \u001b[0mcallable\u001b[0m\u001b[0;34m(\u001b[0m\u001b[0marg\u001b[0m\u001b[0;34m)\u001b[0m\u001b[0;34m:\u001b[0m\u001b[0;34m\u001b[0m\u001b[0m\n",
      "\u001b[0;32m/usr/lib/python3/dist-packages/IPython/core/magics/execution.py\u001b[0m in \u001b[0;36mtime\u001b[0;34m(self, line, cell, local_ns)\u001b[0m\n\u001b[1;32m   1174\u001b[0m         \u001b[0;32mif\u001b[0m \u001b[0mmode\u001b[0m\u001b[0;34m==\u001b[0m\u001b[0;34m'eval'\u001b[0m\u001b[0;34m:\u001b[0m\u001b[0;34m\u001b[0m\u001b[0m\n\u001b[1;32m   1175\u001b[0m             \u001b[0mst\u001b[0m \u001b[0;34m=\u001b[0m \u001b[0mclock2\u001b[0m\u001b[0;34m(\u001b[0m\u001b[0;34m)\u001b[0m\u001b[0;34m\u001b[0m\u001b[0m\n\u001b[0;32m-> 1176\u001b[0;31m             \u001b[0mout\u001b[0m \u001b[0;34m=\u001b[0m \u001b[0meval\u001b[0m\u001b[0;34m(\u001b[0m\u001b[0mcode\u001b[0m\u001b[0;34m,\u001b[0m \u001b[0mglob\u001b[0m\u001b[0;34m,\u001b[0m \u001b[0mlocal_ns\u001b[0m\u001b[0;34m)\u001b[0m\u001b[0;34m\u001b[0m\u001b[0m\n\u001b[0m\u001b[1;32m   1177\u001b[0m             \u001b[0mend\u001b[0m \u001b[0;34m=\u001b[0m \u001b[0mclock2\u001b[0m\u001b[0;34m(\u001b[0m\u001b[0;34m)\u001b[0m\u001b[0;34m\u001b[0m\u001b[0m\n\u001b[1;32m   1178\u001b[0m         \u001b[0;32melse\u001b[0m\u001b[0;34m:\u001b[0m\u001b[0;34m\u001b[0m\u001b[0m\n",
      "\u001b[0;32m<timed eval>\u001b[0m in \u001b[0;36m<module>\u001b[0;34m()\u001b[0m\n",
      "\u001b[0;31mNameError\u001b[0m: name 'm_performance' is not defined"
     ]
    }
   ],
   "source": [
    "%time m_performance([8,8,8,9])"
   ]
  },
  {
   "cell_type": "code",
   "execution_count": 18,
   "metadata": {
    "collapsed": true
   },
   "outputs": [],
   "source": [
    "def m_performance(k_list):\n",
    "    return min(k_list[i]*ij_performance(solution[4:][i],i) for i in range(len(k_list)))"
   ]
  },
  {
   "cell_type": "code",
   "execution_count": 19,
   "metadata": {
    "collapsed": true
   },
   "outputs": [],
   "source": [
    "def ij_performance(version,component):            \n",
    "            return W[component][version-1] "
   ]
  },
  {
   "cell_type": "code",
   "execution_count": 159,
   "metadata": {
    "collapsed": true
   },
   "outputs": [],
   "source": [
    "def delta(m):\n",
    "    alpha = lambda k,x_i,a_ij: binom.pmf(k,x_i,a_ij)\n",
    "    #return np.prod([alpha(m[c],solution[:4][c],A[c][solution[4:][c]-1]) for c in range(len(m))])\n",
    "    return np.prod([binom.cdf(m[c],solution[c],A[c][solution[4+c]-1]) for (c,_) in enumerate(m)])"
   ]
  },
  {
   "cell_type": "code",
   "execution_count": 190,
   "metadata": {
    "collapsed": false
   },
   "outputs": [
    {
     "name": "stdout",
     "output_type": "stream",
     "text": [
      "CPU times: user 699 µs, sys: 7 µs, total: 706 µs\n",
      "Wall time: 627 µs\n"
     ]
    },
    {
     "data": {
      "text/plain": [
       "1.0"
      ]
     },
     "execution_count": 190,
     "metadata": {},
     "output_type": "execute_result"
    }
   ],
   "source": [
    "%time delta([10]*4)"
   ]
  },
  {
   "cell_type": "code",
   "execution_count": 186,
   "metadata": {
    "collapsed": false
   },
   "outputs": [
    {
     "name": "stdout",
     "output_type": "stream",
     "text": [
      "CPU times: user 402 µs, sys: 0 ns, total: 402 µs\n",
      "Wall time: 347 µs\n"
     ]
    },
    {
     "data": {
      "text/plain": [
       "0.67329817917589907"
      ]
     },
     "execution_count": 186,
     "metadata": {},
     "output_type": "execute_result"
    }
   ],
   "source": [
    "%time binom.pmf(9,9,A[0][5])"
   ]
  },
  {
   "cell_type": "code",
   "execution_count": 316,
   "metadata": {
    "collapsed": true
   },
   "outputs": [],
   "source": [
    "def cost():  \n",
    "    discount_func = lambda c,x:1\n",
    "    return sum(discount_func(c, solution[c])*solution[c] * C[c][j-1] for c, j in enumerate(solution[4:]))"
   ]
  },
  {
   "cell_type": "code",
   "execution_count": 317,
   "metadata": {
    "collapsed": false
   },
   "outputs": [
    {
     "name": "stdout",
     "output_type": "stream",
     "text": [
      "CPU times: user 32 µs, sys: 0 ns, total: 32 µs\n",
      "Wall time: 38.4 µs\n"
     ]
    },
    {
     "data": {
      "text/plain": [
       "77.357"
      ]
     },
     "execution_count": 317,
     "metadata": {},
     "output_type": "execute_result"
    }
   ],
   "source": [
    "%time cost()"
   ]
  },
  {
   "cell_type": "code",
   "execution_count": 324,
   "metadata": {
    "collapsed": true
   },
   "outputs": [],
   "source": [
    "def availability():\n",
    "    possible_m = extract_possible_m()\n",
    "    return ( (1/sum([ t_k for w_k, t_k in W_T ]))\n",
    "        *sum([\n",
    "            delta_summ(k, possible_m)\n",
    "            for k, _ in enumerate(W_T)\n",
    "        ]) )\n",
    "\n",
    "def delta_summ(k_interval,k_lists):\n",
    "    m_sort= sorted(k_lists,key=lambda k: m_performance(k))\n",
    "    return W_T[k_interval][1]*sum(delta(m) for m in m_sort if m_performance(m)>=W_T[k_interval][0])"
   ]
  },
  {
   "cell_type": "code",
   "execution_count": 331,
   "metadata": {
    "collapsed": false
   },
   "outputs": [
    {
     "name": "stdout",
     "output_type": "stream",
     "text": [
      "CPU times: user 1.05 s, sys: 53.2 ms, total: 1.1 s\n",
      "Wall time: 951 ms\n"
     ]
    },
    {
     "data": {
      "text/plain": [
       "4259.9982236821834"
      ]
     },
     "execution_count": 331,
     "metadata": {},
     "output_type": "execute_result"
    }
   ],
   "source": [
    "%time delta_summ(0,recero)"
   ]
  },
  {
   "cell_type": "code",
   "execution_count": 435,
   "metadata": {
    "collapsed": false
   },
   "outputs": [
    {
     "data": {
      "text/plain": [
       "2058"
      ]
     },
     "execution_count": 435,
     "metadata": {},
     "output_type": "execute_result"
    }
   ],
   "source": [
    "recero = extract_possible_m()\n",
    "m_sort = list(filter(lambda k: m_performance(k)>=W_T[0][0],recero))\n",
    "len(m_sort)"
   ]
  },
  {
   "cell_type": "code",
   "execution_count": 436,
   "metadata": {
    "collapsed": false
   },
   "outputs": [
    {
     "name": "stdout",
     "output_type": "stream",
     "text": [
      "CPU times: user 14 ms, sys: 0 ns, total: 14 ms\n",
      "Wall time: 14 ms\n"
     ]
    },
    {
     "data": {
      "text/plain": [
       "4608"
      ]
     },
     "execution_count": 436,
     "metadata": {},
     "output_type": "execute_result"
    }
   ],
   "source": [
    "%time len(sorted(recero,key=lambda k: m_performance(k)))"
   ]
  },
  {
   "cell_type": "code",
   "execution_count": 438,
   "metadata": {
    "collapsed": false
   },
   "outputs": [
    {
     "name": "stdout",
     "output_type": "stream",
     "text": [
      "CPU times: user 995 ms, sys: 53.2 ms, total: 1.05 s\n",
      "Wall time: 918 ms\n"
     ]
    },
    {
     "data": {
      "text/plain": [
       "4259.9982236821834"
      ]
     },
     "execution_count": 438,
     "metadata": {},
     "output_type": "execute_result"
    }
   ],
   "source": [
    "%time W_T[0][1]*sum(delta(m) for m in m_sort)"
   ]
  },
  {
   "cell_type": "code",
   "execution_count": null,
   "metadata": {
    "collapsed": true
   },
   "outputs": [],
   "source": []
  }
 ],
 "metadata": {
  "kernelspec": {
   "display_name": "Python 3",
   "language": "python",
   "name": "python3"
  },
  "language_info": {
   "codemirror_mode": {
    "name": "ipython",
    "version": 3
   },
   "file_extension": ".py",
   "mimetype": "text/x-python",
   "name": "python",
   "nbconvert_exporter": "python",
   "pygments_lexer": "ipython3",
   "version": "3.6.3"
  }
 },
 "nbformat": 4,
 "nbformat_minor": 2
}
