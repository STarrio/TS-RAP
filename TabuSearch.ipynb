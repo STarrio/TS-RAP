{
 "cells": [
  {
   "cell_type": "markdown",
   "metadata": {
    "collapsed": true,
    "deletable": true,
    "editable": true
   },
   "source": [
    "## Trabajo MC\n",
    "### Redundancy Allocation Problem with Tabu Search\n",
    "\n",
    "TO-DO LIST:\n",
    "- Implementar búsqueda tabú x\n",
    "- Estudiar heurística explicada en el paper\n",
    "- Aplicar la heurística al algoritmo\n",
    "- Desarrollar funciones de generación de problemas\n",
    "- Desarrollar funciones de representación gráfica\n",
    "\n",
    "Un multi-state series-parallel system (MSS) es un sistema que tiene un número de componentes puestos en serie. Cada componente puede tener uno o más elementos del mismo tipo puestos en paralelo para aumentar la redundancia, y por tanto la fiabilidad del sistema, pero aumentando también su coste. El objetivo es minimizar el coste del diseño del sistema cumpliendo un requisito mínimo de fiabilidad.\n",
    "\n",
    "Una vez seleccionada una version de un elemento para un componente, sólo se puede generar redundancia con elementos de esa versión.\n",
    "\n",
    "- Solución inicial: Cada componente del sistema contiene sólo UN elemento de la VERSIÓN 1\n",
    "- Incrementar la dirección de la solución actual aleatoriamente\n",
    "- Aplicar búsqueda tabú al subespacio comprendido por los vecinos de la solución actual\n",
    "\n",
    "\n",
    "La disponibilidad del sistema es el score que se va a considerar para evaluar la bondad de una solución, y es todo el rollo ese de las transformadas y nosecuanto que se aplica a las fiabilidades nominales (W) de cada elemento individual: Para cada componente, los rendimientos de los distintos elementos en paralelo se suman a través de la u-transformada esa rara. Para todos los componentes del sistema, el rendimiento es el mínimo de los rendimientos de los componentes, pero también a través de la u-transformada. (Miratelo Alvaro que por más que rasco no lo entiendo)\n",
    "\n",
    "Los vecinos de una solución dada son las soluciones posibles cuya dirección (suma de sus versiones de cada elemento y redundancia de cada uno) difiere en 1 de la dirección de la dada."
   ]
  },
  {
   "cell_type": "code",
   "execution_count": 39,
   "metadata": {
    "collapsed": true
   },
   "outputs": [],
   "source": [
    "import random"
   ]
  },
  {
   "cell_type": "code",
   "execution_count": 24,
   "metadata": {
    "collapsed": false,
    "deletable": true,
    "editable": true
   },
   "outputs": [],
   "source": [
    "# Esquema general de la búsqueda tabú\n",
    "# https://en.wikipedia.org/wiki/Tabu_search\n",
    "\n",
    "def tabu_search(s0,stop_cond):\n",
    "    s_best = s0\n",
    "    s_cand = s0\n",
    "    tabu_list = []\n",
    "    tabu_list.append(s0)\n",
    "    while stop_cond:\n",
    "        s_neighbors = neighborhood(s0)\n",
    "        s_cand = s_neighbors[0]\n",
    "        for neighbor in s_neighbors:\n",
    "            if (not neighbor in tabu_list and score(neighbor)>score(s_cand)):\n",
    "                s_cand = neighbor\n",
    "        if(score(s_cand)>score(s_best)):\n",
    "            s_best=s_cand\n",
    "        tabu_list.append(s_cand)\n",
    "        stop_cond-=1\n",
    "    return s_best\n",
    "    "
   ]
  },
  {
   "cell_type": "code",
   "execution_count": 33,
   "metadata": {
    "collapsed": false,
    "deletable": true,
    "editable": true
   },
   "outputs": [],
   "source": [
    "def neighborhood(solution):\n",
    "    # Devuelve la lista de vecinos de solution\n",
    "    return [[]]\n",
    "\n",
    "def score(solution):\n",
    "    # Devuelve el score de solution de acuerdo con la heuristica del articulo\n",
    "    return 1\n",
    "\n",
    "def generate_s0(n_components):\n",
    "    s0 = [1,1]*n_components\n",
    "    return s0\n",
    "\n",
    "def address(solution):\n",
    "    return sum(solution)"
   ]
  },
  {
   "cell_type": "code",
   "execution_count": 34,
   "metadata": {
    "collapsed": false
   },
   "outputs": [
    {
     "data": {
      "text/plain": [
       "[1, 2, 3]"
      ]
     },
     "execution_count": 34,
     "metadata": {},
     "output_type": "execute_result"
    }
   ],
   "source": [
    "tabu_search([1,2,3],10)"
   ]
  },
  {
   "cell_type": "code",
   "execution_count": 38,
   "metadata": {
    "collapsed": false
   },
   "outputs": [
    {
     "data": {
      "text/plain": [
       "[1, 1, 1, 1, 1, 1, 1, 1, 1, 1, 1, 1, 1, 1, 1, 1, 1, 1, 1, 1]"
      ]
     },
     "execution_count": 38,
     "metadata": {},
     "output_type": "execute_result"
    }
   ],
   "source": [
    "generate_s0(10)"
   ]
  },
  {
   "cell_type": "code",
   "execution_count": null,
   "metadata": {
    "collapsed": true,
    "deletable": true,
    "editable": true
   },
   "outputs": [],
   "source": []
  }
 ],
 "metadata": {
  "kernelspec": {
   "display_name": "Python 3",
   "language": "python",
   "name": "python3"
  },
  "language_info": {
   "codemirror_mode": {
    "name": "ipython",
    "version": 3
   },
   "file_extension": ".py",
   "mimetype": "text/x-python",
   "name": "python",
   "nbconvert_exporter": "python",
   "pygments_lexer": "ipython3",
   "version": "3.5.2"
  }
 },
 "nbformat": 4,
 "nbformat_minor": 2
}
