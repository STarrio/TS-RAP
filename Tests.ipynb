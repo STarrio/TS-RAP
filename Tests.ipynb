{
 "cells": [
  {
   "cell_type": "markdown",
   "metadata": {
    "collapsed": true
   },
   "source": [
    "# Trabajo MC\n",
    "## Redundancy Allocation Problem with Tabu Search\n",
    "\n",
    "#### TO-DO LIST\n",
    "- Implementar búsqueda tabú x\n",
    " - <span style=\"color:gray\">(Tener en cuenta el tamaño máximo de la lista tabú {1}) </span>\n",
    "- Estudiar heurística explicada en el paper\n",
    "- Aplicar la heurística al algoritmo\n",
    "- Desarrollar funciones de generación de problemas\n",
    "- Desarrollar funciones de representación gráfica\n",
    "\n",
    "\n",
    "> {1} Según el artículo, este tamaño máximo sera dinámico (hay que investigar más esto)\n",
    "\n",
    "\n",
    "---\n",
    "#### Dudas\n",
    "\n",
    "- Paso 2 del algoritmo (¿cómo se hace el incremento aleatorio de la dirección?)\n",
    "- mngli vs mnli\n",
    "- U-function <span style=\"color:red;font-size:20px\"> <-- ¡¡IMPORTANTE!! </span>\n",
    "\n",
    "\n",
    "---\n",
    "\n",
    "#### Comentarios\n",
    "\n",
    "Un multi-state series-parallel system (MSS) es un sistema que tiene un número de componentes puestos en serie. Cada componente puede tener uno o más elementos del mismo tipo puestos en paralelo para aumentar la redundancia, y por tanto la fiabilidad del sistema, pero aumentando también su coste. El objetivo es minimizar el coste del diseño del sistema cumpliendo un requisito mínimo de fiabilidad.\n",
    "\n",
    "Una vez seleccionada una version de un elemento para un componente, sólo se puede generar redundancia con elementos de esa versión.\n",
    "\n",
    "- Solución inicial: Cada componente del sistema contiene sólo UN elemento de la VERSIÓN 1\n",
    "- Incrementar la dirección de la solución actual aleatoriamente\n",
    "- Aplicar búsqueda tabú al subespacio comprendido por los vecinos de la solución actual\n",
    "\n",
    "\n",
    "La disponibilidad del sistema es el score que se va a considerar para evaluar la bondad de una solución, y es todo el rollo ese de las transformadas y nosecuanto que se aplica a las fiabilidades nominales (W) de cada elemento individual: Para cada componente, los rendimientos de los distintos elementos en paralelo se suman a través de la u-transformada esa rara. Para todos los componentes del sistema, el rendimiento es el mínimo de los rendimientos de los componentes, pero también a través de la u-transformada. (Miratelo Alvaro que por más que rasco no lo entiendo)\n",
    "\n",
    "El espacio de estados -denotado como S- tiene (N - 2s + 1) posibles particiones (desde la mínima dirección posible, 2s; hasta la máxima, N).\n",
    "\n",
    "A la hora de aplicar TS a un subespacio dado, es necesario extraer una estructura de **vecindario** para el mismo. Ésta estructura se obtiene a partir de todos los posibles movimientos únicos aplicados a la solución actual Y. Es necesario puntualizar que durante esta operación, la dirección (suma de las versiones de cada componente y redundancia de cada uno) de los vecinos se mantiene igual respecto a la de la solución original.\n",
    "\n",
    "Un **movimiento** consiste en sumar y restar uno al número de versión y al de redundancia de cada componente de la solución, lo cual puede realizarse de tres maneras:\n",
    "\n",
    "- Cambiando el número de redundancia de los componentes\n",
    "- Cambiando el número de versión de los componentes\n",
    "- Cambiando tanto el número de redundancia como el número de versión de los componentes\n",
    "\n",
    "De entre todos los vecinos será necesario **descartar** los que sean tabú en el momento determinado y escoger aquel considerado como **mejor solución (Y’)**. Ésta solución deberá añadirse a la **lista tabú** (una lista limitada donde se almacenan las soluciones escogidas más recientes). <span style='color:#f1c232;'>El tamaño de ésta lista tabú tenemos que ver cómo lo calculamos.</span>  \n",
    "Además, permitiremos que se pueda seleccionar una solución con una disponibilidad menor a la mínima requerida (A<sub>0</sub>), de tal manera que podamos atravesar la región no factible de soluciones. Para ello **añadiremos una penalización ponderada** a la función de coste para aquellas soluciones que violen las restricciones de disponibilidad.\n",
    "\n",
    "Criterio de parada:"
   ]
  },
  {
   "cell_type": "code",
   "execution_count": 1,
   "metadata": {
    "collapsed": true
   },
   "outputs": [],
   "source": [
    "from TabuSearch import TabuSearch"
   ]
  },
  {
   "cell_type": "code",
   "execution_count": 2,
   "metadata": {
    "collapsed": true
   },
   "outputs": [],
   "source": [
    "def str_to_problem(s, structure):\n",
    "    lines = s.split(\"\\n\")\n",
    "    \n",
    "    A,C,W = [],[],[]\n",
    "    for i,l in list(enumerate(lines)):\n",
    "        if(len(l.strip().split(\" \"))>4):\n",
    "            lines[i]=l.strip().split(\" \")[1:]\n",
    "        else:\n",
    "            lines[i]=l.strip().split(\" \")\n",
    "    c0=0\n",
    "    for n,c in list(enumerate(structure)):\n",
    "        A.append([])\n",
    "        C.append([])\n",
    "        W.append([])\n",
    "        for i in range(c):\n",
    "            A[n].append(float(lines[i+c0][1]))\n",
    "            C[n].append(float(lines[i+c0][2]))\n",
    "            W[n].append(float(lines[i+c0][3]))\n",
    "        c0+=c\n",
    "    return A,C,W"
   ]
  },
  {
   "cell_type": "code",
   "execution_count": 3,
   "metadata": {
    "collapsed": true
   },
   "outputs": [],
   "source": [
    "''' Problem 3 '''\n",
    "def problem_3(a_0):\n",
    "    s = 4\n",
    "    A_0 = [0.9, 0.96, 0.99] # <- SOLO SELECCIONAR UNO \n",
    "    X_max = [10]*4\n",
    "    J_max = [5, 4, 6, 5]\n",
    "    A = [[0.970, 0.964, 0.980, 0.9869, 0.960],\n",
    "         [0.967, 0.914, 0.960, 0.953],\n",
    "         [0.959,0.970,0.959, 0.960, 0.970, 0.960],\n",
    "         [0.989, 0.979, 0.980, 0.960, 0.980]]\n",
    "    C = [[0.520, 0.620, 0.720, 0.890, 1.020],\n",
    "         [0.516, 0.916, 0.967, 1.367],\n",
    "         [0.214, 0.384, 0.534, 0.614, 0.783, 0.813],\n",
    "         [0.683, 0.645, 0.697, 1.190, 1.260]]\n",
    "    W = [[50, 80, 80, 100, 150],\n",
    "         [20, 50, 50, 75],\n",
    "         [60, 90, 180, 200, 200, 240],\n",
    "         [25, 25, 30, 70, 70]]\n",
    "    W_T = [(100, 20),(80, 30), (40, 50)]\n",
    "    q = 5000\n",
    "    mnli = 450\n",
    "    mngi = 2500\n",
    "    \n",
    "    return TabuSearch(s, A_0[a_0], X_max, J_max, A, C, W, W_T, q, mnli, mngi)"
   ]
  },
  {
   "cell_type": "code",
   "execution_count": 4,
   "metadata": {
    "collapsed": false
   },
   "outputs": [
    {
     "name": "stdout",
     "output_type": "stream",
     "text": [
      "1 loop, best of 3: 196 ms per loop\n"
     ]
    }
   ],
   "source": [
    "p_3 = problem_3(0)\n",
    "%timeit p_3.score([8,4,8,3,5,4,1,2])"
   ]
  },
  {
   "cell_type": "code",
   "execution_count": 5,
   "metadata": {
    "collapsed": true
   },
   "outputs": [],
   "source": [
    "''' Problem 4 '''\n",
    "def problem_4(a_0):\n",
    "    s = 6\n",
    "    A_0 = [0.975, 0.98, 0.99] # <- SOLO SELECCIONAR UNO \n",
    "    X_max = [10]*6\n",
    "    J_max = [11, 8, 9, 4, 4, 6]\n",
    "    \n",
    "    A, C, W  = str_to_problem(\"1 1 0.932 1.590 27.3 \\n 2 0.998 0.515 27.7 \\n 3 0.983 0.225 49.8 \\n 4 0.927 3.220 52.5 \\n 5 0.959 4.020 62.0 \\n 6 0.955 4.270 66.4 \\n 7 0.984 3.670 84.6 \\n 8 0.918 4.630 90.7 \\n 9 0.939 1.010 97.0 \\n 10 0.988 0.779 124 \\n 11 0.984 3.130 129 \\n 2 1 0.989 0.050 35.9 \\n 2 0.923 1.290 44.7 \\n 3 0.900 0.204 51.4 \\n 4 0.946 2.220 63.2 \\n 5 0.917 0.872 68.8 \\n 6 0.962 1.830 81.8 \\n 7 0.994 0.294 82.0 \\n 8 0.984 2.810 115 \\n 3 1 0.931 3.620 34.7 \\n 2 0.950 0.475 41.0 \\n 3 0.911 1.170 41.4 \\n 4 0.956 0.793 43.6 \\n 5 0.966 3.740 48.6 \\n 6 0.992 4.590 59.6 \\n 7 0.929 1.740 66.2 \\n 8 0.968 1.720 91.9 \\n 9 0.901 1.300 121 \\n 4 1 0.915 2.490 25.1 \\n 2 0.908 0.078 28.8 \\n 3 0.928 1.370 50.2 \\n 4 0.944 4.470 129 \\n 5 1 0.908 1.550 34.9 \\n 2 0.980 4.920 64.3 \\n 3 0.964 2.650 108 \\n 4 0.924 4.720 126 \\n 6 1 0.965 3.220 24.8 \\n 2 0.927 2.890 47.3 \\n 3 0.986 3.410 58.8 \\n 4 0.983 1.920 107 \\n 5 0.991 4.510 120 \\n 6 0.954 4.580 125\", J_max)    \n",
    "    W_T = [(100, 4203),(80, 788), (50, 1228), (20, 2536)]\n",
    "    q = 400\n",
    "    mnli = 35\n",
    "    mngi = 100\n",
    "    \n",
    "    return TabuSearch(s, A_0[a_0], X_max, J_max, A, C, W, W_T, q, mnli, mngi)"
   ]
  },
  {
   "cell_type": "code",
   "execution_count": 11,
   "metadata": {
    "collapsed": false
   },
   "outputs": [
    {
     "data": {
      "text/plain": [
       "12.764"
      ]
     },
     "execution_count": 11,
     "metadata": {},
     "output_type": "execute_result"
    }
   ],
   "source": [
    "p_4 = problem_4(2)\n",
    "p_4.score([4,4,4,8,2,2,3,1,2,2,3,4])"
   ]
  },
  {
   "cell_type": "code",
   "execution_count": 30,
   "metadata": {
    "collapsed": false
   },
   "outputs": [],
   "source": [
    "''' Problem 1'''\n",
    "def problem_1(a_0):\n",
    "    s = 4\n",
    "    A_0 = [0.975, 0.900, 0.910] # <- SOLO SELECCIONAR UNO \n",
    "    X_max = [10]*4\n",
    "    J_max = [11,7,9,7]\n",
    "    \n",
    "    A, C, W  = str_to_problem(\"1 1 0.990 1.117 25 \\n 2 0.996 1.310 25 \\n 3 0.995 1.903 35 \\n 4 0.961 1.640 35 \\n 5 0.993 2.122 50 \\n 6 0.957 1.910 50 \\n 7 0.942 1.722 50 \\n 8 0.991 2.591 72 \\n 9 0.951 2.001 72 \\n 10 0.986 3.284 100 \\n 11 0.979 3.095 100 \\n 2 1 0.967 4.010 40 \\n 2 0.914 3.450 40 \\n 3 0.960 4.350 55 \\n 4 0.953 4.840 78 \\n 5 0.920 4.210 78 \\n 6 0.950 5.800 93 \\n 7 0.948 6.550 110 \\n 3 1 0.967 0.636 25 \\n 2 0.952 0.448 35 \\n 3 0.973 0.868 35 \\n 4 0.972 0.964 50 \\n 5 0.949 0.678 50 \\n 6 0.988 1.096 50 \\n 7 0.966 1.358 72 \\n 8 0.954 1.298 72 \\n 9 0.945 1.810 100 \\n 4 1 0.987 0.614 12.5 \\n 2 0.985 0.883 25 \\n 3 0.961 0.745 25 \\n 4 0.980 0.963 30 \\n 5 0.958 0.885 30 \\n 6 0.974 1.338 45 \\n 7 0.982 1.445 45\", J_max)    \n",
    "    W_T = [(100, 4260),(80, 800), (50, 1200), (20, 2496)]\n",
    "    q = 400\n",
    "    mnli = 35\n",
    "    mngi = 100\n",
    "    \n",
    "    return TabuSearch(s, A_0[a_0], X_max, J_max, A, C, W, W_T, q, mnli, mngi)"
   ]
  },
  {
   "cell_type": "code",
   "execution_count": 26,
   "metadata": {
    "collapsed": false
   },
   "outputs": [
    {
     "data": {
      "text/plain": [
       "22.956718242925767"
      ]
     },
     "execution_count": 26,
     "metadata": {},
     "output_type": "execute_result"
    }
   ],
   "source": [
    "#Falta el discount\n",
    "p_1 = problem_1(2)\n",
    "p_1.score([1,1,4,4,11,7,2,2])"
   ]
  },
  {
   "cell_type": "code",
   "execution_count": 35,
   "metadata": {
    "collapsed": true
   },
   "outputs": [],
   "source": [
    "''' Problem 2'''\n",
    "def problem_2(a_0):\n",
    "    s = 5\n",
    "    A_0 = [0.975, 0.98, 0.99] # <- SOLO SELECCIONAR UNO \n",
    "    X_max = [10]*4\n",
    "    J_max = [7,5,4,9,4]\n",
    "    \n",
    "    A, C, W  = str_to_problem(\"1 1 0.980 0.590 120 \\n 2 0.977 0.535 100 \\n 3 0.982 0.470 85 \\n 4 0.978 0.420 85 \\n 5 0.983 0.400 48 \\n 6 0.920 0.180 31 \\n 7 0.984 0.220 26 \\n 2 1 0.995 0.205 100 \\n 2 0.996 0.189 92 \\n 3 0.997 0.091 53 \\n 4 0.997 0.056 28 \\n 5 0.998 0.042 21 \\n 3 1 0.971 7.525 100 \\n 2 0.973 4.720 60 \\n 3 0.971 3.590 40 \\n 4 0.976 2.420 20 \\n 4 1 0.977 0.180 115 \\n 2 0.978 0.160 100 \\n 3 0.978 0.150 91 \\n 4 0.983 0.121 72 \\n 5 0.981 0.102 72 \\n 6 0.971 0.096 72 \\n 7 0.983 0.071 55 \\n 8 0.982 0.049 25 \\n 9 0.977 0.044 25 \\n 5 1 0.984 0.986 128 \\n 2 0.983 0.825 100 \\n 3 0.987 0.490 60 \\n 4 0.981 0.475 51\",J_max)    \n",
    "    W_T = [(100, 4203),(80, 788), (50, 1228), (20, 2536)]\n",
    "    q = 400\n",
    "    mnli = 35\n",
    "    mngi = 100\n",
    "    \n",
    "    return TabuSearch(s, A_0[a_0], X_max, J_max, A, C, W, W_T, q, mnli, mngi)"
   ]
  },
  {
   "cell_type": "code",
   "execution_count": 38,
   "metadata": {
    "collapsed": false
   },
   "outputs": [
    {
     "data": {
      "text/plain": [
       "16.45"
      ]
     },
     "execution_count": 38,
     "metadata": {},
     "output_type": "execute_result"
    }
   ],
   "source": [
    "# Works like a charm <3\n",
    "p_2 = problem_2(0)\n",
    "p_2.score([2,2,3,3,1,2,3,2,7,2])"
   ]
  },
  {
   "cell_type": "code",
   "execution_count": null,
   "metadata": {
    "collapsed": false
   },
   "outputs": [],
   "source": []
  },
  {
   "cell_type": "code",
   "execution_count": null,
   "metadata": {
    "collapsed": true
   },
   "outputs": [],
   "source": []
  }
 ],
 "metadata": {
  "kernelspec": {
   "display_name": "Python 3",
   "language": "python",
   "name": "python3"
  },
  "language_info": {
   "codemirror_mode": {
    "name": "ipython",
    "version": 3
   },
   "file_extension": ".py",
   "mimetype": "text/x-python",
   "name": "python",
   "nbconvert_exporter": "python",
   "pygments_lexer": "ipython3",
   "version": "3.6.3"
  }
 },
 "nbformat": 4,
 "nbformat_minor": 2
}
